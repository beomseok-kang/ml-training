{
 "cells": [
  {
   "cell_type": "markdown",
   "id": "4a9b5185",
   "metadata": {},
   "source": [
    "# Oversampling Using SMOTE\n",
    "\n",
    "Using the dataset that has a highly imbalanced (of which a certain class value has a too high frequency) class can cause performance issues. Taking binary classification problem as an example, if the problem's dataset's majority of the data are imbalanced in terms of their class (for example, for a fraud detection problem, most of the transaction data would be normal transactions, but a very few data would be fraud transactions.), the model wouldn't be able to train itself from the limited amount of data with the certain class. The training will therefore be imbalancedly focused towards the majority class, causing performance issues.\n",
    "\n",
    "Therefore, to mitigate this issue, there arises a need to balance the dataset. This can be done either by \"oversampling\" and \"undersampling\".\n",
    "\n",
    "![undersampling & oversampling](https://miro.medium.com/max/1400/1*7xf9e1EaoK5n05izIFBouA.png)\\\n",
    "\n",
    "\"**Undersampling**\" means to get all of the classes to the same amount as the minority class or the one with the least amount of rows. For example, if there exist 10,000 majority class data and 100 minority class data, the majority class data number will be reduced to 100 in order to balance the dataset. Although this method balances the dataset, since it reduces too many majority class data for the most of the cases, it is rarely applied for most of the times.\n",
    "\n",
    "\"**Oversampling**\" means to duplicate the other classes' rows to be equal to that of the majority classes. However, simply increasing the number of the majority class data by duplicating the existing data would rather cause overfitting of the model. Therefore, for most of the time, the existing data's features are slightly modified to create new data. One of the most popular way to do this is the SMOTE (*Synthetic Minority Oversampling Technique*) method.\n",
    "\n",
    "\"**SMOTE**\" works by selecting examples that are close in the feature space, drawing a line between the examples in the feature space and drawing a new sample at a point along that line. Specifically, a random example from the minority class is first chosen. Then, k of the nearest neighbors for that example are found (typically, `k=5`). A randomly selected neighbor is chosen and a synthetic example is created at a randomly selected point between the two examples in feature space."
   ]
  },
  {
   "cell_type": "code",
   "execution_count": 1,
   "id": "ddab628e",
   "metadata": {},
   "outputs": [],
   "source": [
    "# The python package \"imbalanced-learn\" has implemented the SMOTE.\n",
    "from imblearn.over_sampling import SMOTE\n",
    "\n",
    "smote = SMOTE(random_state=0)"
   ]
  },
  {
   "cell_type": "code",
   "execution_count": 2,
   "id": "4844850b",
   "metadata": {},
   "outputs": [],
   "source": [
    "import pandas as pd\n",
    "import matplotlib.pyplot as plt\n",
    "import warnings\n",
    "warnings.filterwarnings('ignore')\n",
    "%matplotlib inline\n",
    "\n",
    "card_df = pd.read_csv(\"./creditcard.csv\")"
   ]
  },
  {
   "cell_type": "code",
   "execution_count": 6,
   "id": "3b8b4003",
   "metadata": {},
   "outputs": [],
   "source": [
    "## Preprocessing the dataframe, removing the outliers.\n",
    "import numpy as np\n",
    "\n",
    "def get_outlier(df=None, column=None, weight=1.5):\n",
    "    # Extract the data that has class value of \"fraud\", and get the Q1 and Q3 values using np.percetile\n",
    "    fraud = df[df['Class']==1][column]\n",
    "    \n",
    "    q1 = np.percentile(fraud.values, 25)\n",
    "    q3 = np.percentile(fraud.values, 75)\n",
    "    iqr = q3 - q1\n",
    "    iqr_weight = iqr * weight\n",
    "    lowest_val = q1 - iqr_weight\n",
    "    highest_val = q3 + iqr_weight\n",
    "    \n",
    "    outlier_index = fraud[(fraud < lowest_val) | (fraud > highest_val)].index\n",
    "    return outlier_index\n",
    "\n",
    "def get_preprocessed_df(df=None):\n",
    "    df_copy = df.copy()\n",
    "    # do log scaling\n",
    "    amount_n = np.log1p(df_copy['Amount'])\n",
    "    df_copy.insert(0, 'Amount_Scaled', amount_n)\n",
    "    df_copy.drop(['Time', 'Amount'], axis=1, inplace=True)\n",
    "    # add logic to remove the outliers\n",
    "    outlier_index = get_outlier(df=df_copy, column='V14', weight=1.5)\n",
    "    df_copy.drop(outlier_index, axis=0, inplace=True)\n",
    "    return df_copy"
   ]
  },
  {
   "cell_type": "code",
   "execution_count": 7,
   "id": "3cd7c018",
   "metadata": {},
   "outputs": [],
   "source": [
    "######## UTILS ##########\n",
    "from sklearn.model_selection import train_test_split\n",
    "\n",
    "def get_train_test_dataset(df=None):\n",
    "    df_copy = get_preprocessed_df(df)\n",
    "    X_features = df_copy.iloc[:, :-1]\n",
    "    y_target = df_copy.iloc[:, -1]\n",
    "    \n",
    "    X_train, X_test, y_train, y_test = train_test_split(X_features, y_target, test_size=0.3, random_state=0, stratify=y_target)\n",
    "    return X_train, X_test, y_train, y_test\n",
    "\n",
    "from sklearn.metrics import accuracy_score, precision_score, recall_score, roc_auc_score\n",
    "from sklearn.metrics import f1_score, confusion_matrix, precision_recall_curve, roc_curve\n",
    "\n",
    "def get_clf_eval(y_test, pred, pred_proba):\n",
    "    confusion = confusion_matrix(y_test, pred)\n",
    "    accuracy = accuracy_score(y_test, pred)\n",
    "    precision = precision_score(y_test, pred)\n",
    "    recall = recall_score(y_test, pred)\n",
    "    f1 = f1_score(y_test, pred)\n",
    "    # ROC-AUC\n",
    "    roc_auc = roc_auc_score(y_test, pred_proba)\n",
    "    print('오차행렬\\n', confusion)\n",
    "    print('정확도: {0:.4f}, 정밀도: {1:.4f}, 재현율: {2:.4f}, F1: {3:.4f}, AUC: {4:.4f}'.format(accuracy, precision, recall, f1, roc_auc))\n",
    "    \n",
    "def get_model_train_eval(model, ftr_train=None, ftr_test=None, tgt_train=None, tgt_test=None):\n",
    "    model.fit(ftr_train, tgt_train)\n",
    "    pred = model.predict(ftr_test)\n",
    "    pred_proba = model.predict_proba(ftr_test)[:, 1]\n",
    "    get_clf_eval(tgt_test, pred, pred_proba)"
   ]
  },
  {
   "cell_type": "code",
   "execution_count": 10,
   "id": "34993d9c",
   "metadata": {},
   "outputs": [
    {
     "name": "stdout",
     "output_type": "stream",
     "text": [
      "SMOTE 적용 전 학습용 피처/레이블 데이터 세트: (199362, 29) (199362,)\n",
      "SMOTE 적용 후 학습용 피처/레이블 데이터 세트: (398040, 29) (398040,)\n",
      "\n",
      "SMOTE 적용 후 레이블 값 분포:\n",
      " 0    199020\n",
      "1    199020\n",
      "Name: Class, dtype: int64\n"
     ]
    }
   ],
   "source": [
    "X_train, X_test, y_train, y_test = get_train_test_dataset(card_df)\n",
    "\n",
    "X_train_over, y_train_over = smote.fit_resample(X_train, y_train)\n",
    "\n",
    "print(\"SMOTE 적용 전 학습용 피처/레이블 데이터 세트:\", X_train.shape, y_train.shape)\n",
    "print(\"SMOTE 적용 후 학습용 피처/레이블 데이터 세트:\", X_train_over.shape, y_train_over.shape)\n",
    "\n",
    "print(\"\\nSMOTE 적용 후 레이블 값 분포:\\n\", pd.Series(y_train_over).value_counts())"
   ]
  },
  {
   "cell_type": "code",
   "execution_count": 11,
   "id": "7644850b",
   "metadata": {},
   "outputs": [
    {
     "name": "stdout",
     "output_type": "stream",
     "text": [
      "오차행렬\n",
      " [[82937  2358]\n",
      " [   11   135]]\n",
      "정확도: 0.9723, 정밀도: 0.0542, 재현율: 0.9247, F1: 0.1023, AUC: 0.9737\n"
     ]
    }
   ],
   "source": [
    "# First, use logistic regression model to fit the oversampled data.\n",
    "from sklearn.linear_model import LogisticRegression\n",
    "lr_clf = LogisticRegression()\n",
    "get_model_train_eval(lr_clf, ftr_train=X_train_over, ftr_test=X_test, tgt_train=y_train_over, tgt_test=y_test)"
   ]
  },
  {
   "cell_type": "markdown",
   "id": "13269b3f",
   "metadata": {},
   "source": [
    "Although the recall has improved highly, the precision has decreased massively to 5.4%. This is caused by the classifier training itself with too many class 1 data (fraud transaction).\n",
    "\n",
    "Let us plot a precision-recall-threshold value curve to check what is happening."
   ]
  },
  {
   "cell_type": "code",
   "execution_count": 14,
   "id": "b69a0f1b",
   "metadata": {},
   "outputs": [],
   "source": [
    "#### UTIL ####\n",
    "import matplotlib.pyplot as plt\n",
    "import matplotlib.ticker as ticker\n",
    "%matplotlib inline\n",
    "\n",
    "def precision_recall_curve_plot(y_test, pred_proba_c1):\n",
    "    precisions, recalls, thresholds = precision_recall_curve(y_test, pred_proba_c1)\n",
    "    \n",
    "    # X축: threshold 값, Y축: 정밀도, 재현율\n",
    "    plt.figure(figsize=(8, 6))\n",
    "    threshold_boundary = thresholds.shape[0]\n",
    "    plt.plot(thresholds, precisions[0:threshold_boundary], linestyle='--', label='precision')\n",
    "    plt.plot(thresholds, recalls[0:threshold_boundary], label='recall')\n",
    "    \n",
    "    # threshold 값 X축의 Scale을 0.1 단위로 변경\n",
    "    start, end = plt.xlim()\n",
    "    plt.xticks(np.round(np.arange(start, end, 0.1), 2))\n",
    "    \n",
    "    # X축, Y축 label과 legend, 그리고 grid 설정\n",
    "    plt.xlabel('Threshold value')\n",
    "    plt.ylabel('Precision and Recall value')\n",
    "    plt.legend()\n",
    "    plt.grid()\n",
    "    plt.show()"
   ]
  },
  {
   "cell_type": "code",
   "execution_count": 15,
   "id": "3dcaf074",
   "metadata": {},
   "outputs": [
    {
     "data": {
      "image/png": "[encoded data removed]",
      "text/plain": [
       "<Figure size 576x432 with 1 Axes>"
      ]
     },
     "metadata": {
      "needs_background": "light"
     },
     "output_type": "display_data"
    }
   ],
   "source": [
    "precision_recall_curve_plot(y_test, lr_clf.predict_proba(X_test)[:, 1])"
   ]
  },
  {
   "cell_type": "markdown",
   "id": "047f3181",
   "metadata": {},
   "source": [
    "At when the threshold value is below 0.99, the recall is very high, but above 0.99, it reduces dramatically.\n",
    "\n",
    "The sensitivities of the values against the threshold value are too high (highly sensitive), so it would be almost impossible to get a good precision & recall value with LogisticRegression classifier model."
   ]
  },
  {
   "cell_type": "code",
   "execution_count": 16,
   "id": "8d6a56b9",
   "metadata": {},
   "outputs": [
    {
     "name": "stdout",
     "output_type": "stream",
     "text": [
      "오차행렬\n",
      " [[85283    12]\n",
      " [   22   124]]\n",
      "정확도: 0.9996, 정밀도: 0.9118, 재현율: 0.8493, F1: 0.8794, AUC: 0.9814\n"
     ]
    }
   ],
   "source": [
    "# Now, use LGBMClassifier\n",
    "from lightgbm import LGBMClassifier\n",
    "\n",
    "lgbm_clf = LGBMClassifier(n_estimators=1000, num_leaves=64, n_jobs=-1, boost_from_average=False)\n",
    "get_model_train_eval(lgbm_clf, ftr_train=X_train_over, ftr_test=X_test, tgt_train=y_train_over, tgt_test=y_test)"
   ]
  },
  {
   "cell_type": "markdown",
   "id": "a95f53f8",
   "metadata": {},
   "source": [
    "The recall has improved from 82.88% (outlier preprocessing) to 84.93%, but the precision has decreased from 96.03% (outlier preprocessing) to 91.18%. It is normal that applying SMOTE increases the recall but decreases the precision. A better SMOTE package would provide an efficient data oversampling which maximises the increase rate of the recall and minimises the decrease rate of the precision."
   ]
  },
  {
   "cell_type": "code",
   "execution_count": null,
   "id": "9d62e653",
   "metadata": {},
   "outputs": [],
   "source": []
  }
 ],
 "metadata": {
  "kernelspec": {
   "display_name": "Python 3",
   "language": "python",
   "name": "python3"
  },
  "language_info": {
   "codemirror_mode": {
    "name": "ipython",
    "version": 3
   },
   "file_extension": ".py",
   "mimetype": "text/x-python",
   "name": "python",
   "nbconvert_exporter": "python",
   "pygments_lexer": "ipython3",
   "version": "3.8.8"
  }
 },
 "nbformat": 4,
 "nbformat_minor": 5
}
