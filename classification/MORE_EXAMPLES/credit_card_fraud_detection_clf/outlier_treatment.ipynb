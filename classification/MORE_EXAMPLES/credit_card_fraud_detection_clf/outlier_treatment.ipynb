{
 "cells": [
  {
   "cell_type": "code",
   "execution_count": 1,
   "id": "fd84fe08",
   "metadata": {},
   "outputs": [],
   "source": [
    "# Outlier data are the data that are out of the pattern more than a certain threshold.\n",
    "# The outliers affect the machine learning model's performance, and therefore they shall be treated beforehand.\n",
    "#\n",
    "# There are a lot of ways to find the outliers, but I will use IQR (Interquartile Range) method."
   ]
  },
  {
   "cell_type": "markdown",
   "id": "7138a797",
   "metadata": {},
   "source": [
    "## Interquartile Range (IQR)\n",
    "\n",
    "![Interquartile Range](https://naysan.ca/wp-content/uploads/2020/06/box_plot_ref_needed.png)\n",
    "\n",
    "The IQR is the range between Q1 and Q3. When using IQR to find the outliers, we first multiply a certain factor (usually 1.5, but it can be any value) to the IQR. Then, subtract the value from the Q1 value and add the value to the Q3 value. Each of these added/subtracted values will be the standard of determining whether a value is an outlier.\n",
    "\n",
    "If a value is out of the range set by the standards, the value is determined as an outlier."
   ]
  },
  {
   "cell_type": "code",
   "execution_count": 3,
   "id": "e6fa09d8",
   "metadata": {},
   "outputs": [
    {
     "data": {
      "text/plain": [
       "<AxesSubplot:>"
      ]
     },
     "execution_count": 3,
     "metadata": {},
     "output_type": "execute_result"
    },
    {
     "data": {
      "image/png": "[encoded data removed]",
      "text/plain": [
       "<Figure size 648x648 with 2 Axes>"
      ]
     },
     "metadata": {
      "needs_background": "light"
     },
     "output_type": "display_data"
    }
   ],
   "source": [
    "# First, before using IQR, analyse the featrues.\n",
    "\n",
    "# If there are lots of features, the good way to find the outliers is to use the features with higher importance\n",
    "# for the determination of outliers.\n",
    "\n",
    "# If there are lots of features it will take a long time to search all the features and their outliers, and also if\n",
    "# the feature's importance is not very high, removing the outliers would not result in a meaningful increase in\n",
    "# the performance of the model.\n",
    "\n",
    "# I will use DataFrame's corr to find the correlation of the features and visualise them using Seaborn's heatmap.\n",
    "import seaborn as sns\n",
    "import matplotlib.pyplot as plt\n",
    "import warnings\n",
    "warnings.filterwarnings(\"ignore\")\n",
    "%matplotlib inline\n",
    "\n",
    "import pandas as pd\n",
    "\n",
    "card_df = pd.read_csv(\"./creditcard.csv\")\n",
    "\n",
    "plt.figure(figsize=(9, 9))\n",
    "corr = card_df.corr()\n",
    "# The RdBu cmap (colormap) illustrates the correlation by expressing the positive correlations with blue colour and\n",
    "# the negative correlations with red colour. The redder the colour is, the more negative the correlation is, and\n",
    "# vice versa.\n",
    "sns.heatmap(corr, cmap='RdBu')"
   ]
  },
  {
   "cell_type": "markdown",
   "id": "dc9a2baa",
   "metadata": {},
   "source": [
    "With class, `V14` and `V17` features had the most negative correlations amongst the features."
   ]
  },
  {
   "cell_type": "code",
   "execution_count": 8,
   "id": "107f14b6",
   "metadata": {},
   "outputs": [],
   "source": [
    "# We will find the outliers of V14. The function below finds the outliers.\n",
    "import numpy as np\n",
    "\n",
    "def get_outlier(df=None, column=None, weight=1.5):\n",
    "    # Extract the data that has class value of \"fraud\", and get the Q1 and Q3 values using np.percetile\n",
    "    fraud = df[df['Class']==1][column]\n",
    "    \n",
    "    q1 = np.percentile(fraud.values, 25)\n",
    "    q3 = np.percentile(fraud.values, 75)\n",
    "    iqr = q3 - q1\n",
    "    iqr_weight = iqr * weight\n",
    "    lowest_val = q1 - iqr_weight\n",
    "    highest_val = q3 + iqr_weight\n",
    "    \n",
    "    outlier_index = fraud[(fraud < lowest_val) | (fraud > highest_val)].index\n",
    "    return outlier_index"
   ]
  },
  {
   "cell_type": "code",
   "execution_count": 9,
   "id": "cd72d51f",
   "metadata": {},
   "outputs": [
    {
     "name": "stdout",
     "output_type": "stream",
     "text": [
      "이상치 데이터 인덱스: Int64Index([8296, 8615, 9035, 9252], dtype='int64')\n"
     ]
    }
   ],
   "source": [
    "# Test the function\n",
    "outlier_index = get_outlier(df=card_df, column=\"V14\", weight=1.5)\n",
    "print('이상치 데이터 인덱스:', outlier_index)"
   ]
  },
  {
   "cell_type": "markdown",
   "id": "d2b32f6f",
   "metadata": {},
   "source": [
    "4 data are spotted to be the outliers. Now, preprocess the dataframe to remove the outliers."
   ]
  },
  {
   "cell_type": "code",
   "execution_count": 10,
   "id": "9a73be37",
   "metadata": {},
   "outputs": [],
   "source": [
    "def get_preprocessed_df(df=None):\n",
    "    df_copy = df.copy()\n",
    "    # do log scaling\n",
    "    amount_n = np.log1p(df_copy['Amount'])\n",
    "    df_copy.insert(0, 'Amount_Scaled', amount_n)\n",
    "    df_copy.drop(['Time', 'Amount'], axis=1, inplace=True)\n",
    "    # add logic to remove the outliers\n",
    "    outlier_index = get_outlier(df=df_copy, column='V14', weight=1.5)\n",
    "    df_copy.drop(outlier_index, axis=0, inplace=True)\n",
    "    return df_copy"
   ]
  },
  {
   "cell_type": "code",
   "execution_count": 13,
   "id": "e1089191",
   "metadata": {},
   "outputs": [],
   "source": [
    "######## UTILS ##########\n",
    "from sklearn.model_selection import train_test_split\n",
    "\n",
    "def get_train_test_dataset(df=None):\n",
    "    df_copy = get_preprocessed_df(df)\n",
    "    X_features = df_copy.iloc[:, :-1]\n",
    "    y_target = df_copy.iloc[:, -1]\n",
    "    \n",
    "    X_train, X_test, y_train, y_test = train_test_split(X_features, y_target, test_size=0.3, random_state=0, stratify=y_target)\n",
    "    return X_train, X_test, y_train, y_test\n",
    "\n",
    "from sklearn.metrics import accuracy_score, precision_score, recall_score, roc_auc_score\n",
    "from sklearn.metrics import f1_score, confusion_matrix, precision_recall_curve, roc_curve\n",
    "\n",
    "def get_clf_eval(y_test, pred, pred_proba):\n",
    "    confusion = confusion_matrix(y_test, pred)\n",
    "    accuracy = accuracy_score(y_test, pred)\n",
    "    precision = precision_score(y_test, pred)\n",
    "    recall = recall_score(y_test, pred)\n",
    "    f1 = f1_score(y_test, pred)\n",
    "    # ROC-AUC\n",
    "    roc_auc = roc_auc_score(y_test, pred_proba)\n",
    "    print('오차행렬\\n', confusion)\n",
    "    print('정확도: {0:.4f}, 정밀도: {1:.4f}, 재현율: {2:.4f}, F1: {3:.4f}, AUC: {4:.4f}'.format(accuracy, precision, recall, f1, roc_auc))\n",
    "    \n",
    "def get_model_train_eval(model, ftr_train=None, ftr_test=None, tgt_train=None, tgt_test=None):\n",
    "    model.fit(ftr_train, tgt_train)\n",
    "    pred = model.predict(ftr_test)\n",
    "    pred_proba = model.predict_proba(ftr_test)[:, 1]\n",
    "    get_clf_eval(tgt_test, pred, pred_proba)"
   ]
  },
  {
   "cell_type": "code",
   "execution_count": 16,
   "id": "c3bf2424",
   "metadata": {
    "scrolled": false
   },
   "outputs": [
    {
     "name": "stdout",
     "output_type": "stream",
     "text": [
      "로지스틱 회귀 성능\n",
      "오차행렬\n",
      " [[85281    14]\n",
      " [   48    98]]\n",
      "정확도: 0.9993, 정밀도: 0.8750, 재현율: 0.6712, F1: 0.7597, AUC: 0.9743\n",
      "LGBM 예측 성능\n",
      "오차행렬\n",
      " [[85290     5]\n",
      " [   25   121]]\n",
      "정확도: 0.9996, 정밀도: 0.9603, 재현율: 0.8288, F1: 0.8897, AUC: 0.9780\n"
     ]
    }
   ],
   "source": [
    "X_train, X_test, y_train, y_test = get_train_test_dataset(card_df)\n",
    "\n",
    "from sklearn.linear_model import LogisticRegression\n",
    "print(\"로지스틱 회귀 성능\")\n",
    "lr_clf = LogisticRegression()\n",
    "get_model_train_eval(lr_clf, ftr_train=X_train, ftr_test=X_test, tgt_train=y_train, tgt_test=y_test)\n",
    "\n",
    "from lightgbm import LGBMClassifier\n",
    "print(\"LGBM 예측 성능\")\n",
    "lgbm_clf = LGBMClassifier(n_estimators=1000, num_leaves=64, n_jobs=-1, boost_from_average=False)\n",
    "get_model_train_eval(lgbm_clf, ftr_train=X_train, ftr_test=X_test, tgt_train=y_train, tgt_test=y_test)"
   ]
  },
  {
   "cell_type": "markdown",
   "id": "0c0a1a24",
   "metadata": {},
   "source": [
    "### Result\n",
    "\n",
    "Removing the outlier data has improved the model performance highly. The LogisticRegression classifier's recall value has improved from 60.14% to 0.6712%, and the LGBMClassifier's recall value has improved from 76.35% to 82.88%."
   ]
  }
 ],
 "metadata": {
  "kernelspec": {
   "display_name": "Python 3",
   "language": "python",
   "name": "python3"
  },
  "language_info": {
   "codemirror_mode": {
    "name": "ipython",
    "version": 3
   },
   "file_extension": ".py",
   "mimetype": "text/x-python",
   "name": "python",
   "nbconvert_exporter": "python",
   "pygments_lexer": "ipython3",
   "version": "3.8.8"
  }
 },
 "nbformat": 4,
 "nbformat_minor": 5
}
