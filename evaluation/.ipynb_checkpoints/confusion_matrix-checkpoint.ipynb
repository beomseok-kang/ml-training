{
 "cells": [
  {
   "cell_type": "code",
   "execution_count": 1,
   "id": "e5583cc3",
   "metadata": {},
   "outputs": [],
   "source": [
    "# 오차행렬은 4분면 행렬에서 실제 레이블 클래스 값과 예측 레이블 클래스 값이 어떠한 유형을 갖고 매핑되는지를 나타낸다.\n",
    "# TN, FP, FN, TP는 예측 클래스와 실제 클래스의 Positive 결정 값 (값 1)\n",
    "# TN (True Negative): 예측값을 Negative 값 0으로 예측했는데, 실제값 역시 Negative 값 0인 경우\n",
    "# FP (False Positive): 예측값을 Positive 값 1로 예측했는데, 실제값은 Negative 값 0인 경우\n",
    "# FN (False Negative): 예측값을 Negative 값 0으로 예측했는데, 실제값은 Positive 값 1인 경우\n",
    "# TP (True Positive): 예측값을 Positive 값 1로 예측했는데, 실제값 역시 Positive 값 1인 경우"
   ]
  },
  {
   "cell_type": "code",
   "execution_count": null,
   "id": "8625d3b0",
   "metadata": {},
   "outputs": [],
   "source": []
  }
 ],
 "metadata": {
  "kernelspec": {
   "display_name": "Python 3",
   "language": "python",
   "name": "python3"
  },
  "language_info": {
   "codemirror_mode": {
    "name": "ipython",
    "version": 3
   },
   "file_extension": ".py",
   "mimetype": "text/x-python",
   "name": "python",
   "nbconvert_exporter": "python",
   "pygments_lexer": "ipython3",
   "version": "3.8.8"
  }
 },
 "nbformat": 4,
 "nbformat_minor": 5
}
